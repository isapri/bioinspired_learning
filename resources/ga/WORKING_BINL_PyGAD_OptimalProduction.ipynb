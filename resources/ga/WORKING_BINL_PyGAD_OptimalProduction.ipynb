{
  "cells": [
    {
      "cell_type": "markdown",
      "metadata": {
        "id": "bxUqv_bSWs2m"
      },
      "source": [
        "# <font color=#FF1493>Bio-Inspired Learning</font>\n",
        "\n",
        "## <font color=yellow>Try to complete</font> a Genetic Algorithm for the classical example:\n",
        "> </font><font size=5 color=orange> *find the optimal production for a company*</font>\n",
        "\n",
        "---\n",
        "* #### <font color=#F5F5D6>This Notebooks implements the ideas and code in [Algoritmo Genético en Python desde 0](https://anderfernandez.com/blog/algoritmo-genetico-en-python/)</font>\n",
        "---\n",
        "---\n",
        "### <font color=#C0C0C0>Master of Science in Signal Theory and Communications (MUTSC)</font>\n",
        "### *Signal processing and machine learning for big data*\n",
        "## <font color=orange>ETSIT - UPM</font>\n",
        "---\n",
        "\n"
      ]
    },
    {
      "cell_type": "code",
      "execution_count": 1,
      "metadata": {
        "colab": {
          "base_uri": "https://localhost:8080/"
        },
        "id": "3nAJTg1QAAA_",
        "outputId": "405da2c5-0994-43a3-c8fa-dad0a5947ca8"
      },
      "outputs": [
        {
          "name": "stdout",
          "output_type": "stream",
          "text": [
            "Looking in indexes: https://pypi.org/simple, https://us-python.pkg.dev/colab-wheels/public/simple/\n",
            "Collecting pygad\n",
            "  Downloading pygad-3.0.0-py3-none-any.whl (67 kB)\n",
            "\u001b[2K     \u001b[90m━━━━━━━━━━━━━━━━━━━━━━━━━━━━━━━━━━━━━━━━\u001b[0m \u001b[32m68.0/68.0 kB\u001b[0m \u001b[31m2.5 MB/s\u001b[0m eta \u001b[36m0:00:00\u001b[0m\n",
            "\u001b[?25hRequirement already satisfied: numpy in /usr/local/lib/python3.9/dist-packages (from pygad) (1.22.4)\n",
            "Requirement already satisfied: cloudpickle in /usr/local/lib/python3.9/dist-packages (from pygad) (2.2.1)\n",
            "Requirement already satisfied: matplotlib in /usr/local/lib/python3.9/dist-packages (from pygad) (3.7.1)\n",
            "Requirement already satisfied: kiwisolver>=1.0.1 in /usr/local/lib/python3.9/dist-packages (from matplotlib->pygad) (1.4.4)\n",
            "Requirement already satisfied: pillow>=6.2.0 in /usr/local/lib/python3.9/dist-packages (from matplotlib->pygad) (8.4.0)\n",
            "Requirement already satisfied: fonttools>=4.22.0 in /usr/local/lib/python3.9/dist-packages (from matplotlib->pygad) (4.39.3)\n",
            "Requirement already satisfied: python-dateutil>=2.7 in /usr/local/lib/python3.9/dist-packages (from matplotlib->pygad) (2.8.2)\n",
            "Requirement already satisfied: contourpy>=1.0.1 in /usr/local/lib/python3.9/dist-packages (from matplotlib->pygad) (1.0.7)\n",
            "Requirement already satisfied: packaging>=20.0 in /usr/local/lib/python3.9/dist-packages (from matplotlib->pygad) (23.0)\n",
            "Requirement already satisfied: importlib-resources>=3.2.0 in /usr/local/lib/python3.9/dist-packages (from matplotlib->pygad) (5.12.0)\n",
            "Requirement already satisfied: cycler>=0.10 in /usr/local/lib/python3.9/dist-packages (from matplotlib->pygad) (0.11.0)\n",
            "Requirement already satisfied: pyparsing>=2.3.1 in /usr/local/lib/python3.9/dist-packages (from matplotlib->pygad) (3.0.9)\n",
            "Requirement already satisfied: zipp>=3.1.0 in /usr/local/lib/python3.9/dist-packages (from importlib-resources>=3.2.0->matplotlib->pygad) (3.15.0)\n",
            "Requirement already satisfied: six>=1.5 in /usr/local/lib/python3.9/dist-packages (from python-dateutil>=2.7->matplotlib->pygad) (1.16.0)\n",
            "Installing collected packages: pygad\n",
            "Successfully installed pygad-3.0.0\n"
          ]
        }
      ],
      "source": [
        "! pip install pygad"
      ]
    },
    {
      "cell_type": "code",
      "execution_count": 2,
      "metadata": {
        "colab": {
          "base_uri": "https://localhost:8080/"
        },
        "id": "0l_cqS9EAToZ",
        "outputId": "b075a3f0-5d8e-41f2-a252-cc55c7601849"
      },
      "outputs": [
        {
          "name": "stdout",
          "output_type": "stream",
          "text": [
            "3.0.0\n"
          ]
        }
      ],
      "source": [
        "import pygad\n",
        "import numpy as np\n",
        "\n",
        "print(pygad.__version__)"
      ]
    },
    {
      "cell_type": "markdown",
      "metadata": {
        "id": "DIdsxqCGwB9i"
      },
      "source": [
        "# The Optimization PROBLEM:\n",
        "\n",
        "### Find the optimum production values for some assets to maximize the benifts of a comnpnay, given the following <font color=yellow> contraints</font>\n",
        "\n",
        "* ### At least 10 units per asset must be produced\n",
        "* ### There is a maximum number of materials to use.\n",
        "* ### Every asset has a different benefit\n",
        "\n",
        "---\n",
        "---\n",
        "### In this case we will have only 3 assets\n",
        "\n",
        "* ### the margin obtained for each one is margin [4, 6.5, 1.5]\n",
        "* ### the material_consumption per asset is [10, 20, 2]\n",
        "* ### the TOTAL maximun material consumption is 5000\n",
        "* ### a minimun of 10 units per asset has to be produced\n"
      ]
    },
    {
      "cell_type": "code",
      "execution_count": null,
      "metadata": {
        "id": "03zLlEbIwITo"
      },
      "outputs": [],
      "source": [
        "margin = np.array([4, 6.5, 1.5])\n",
        "material_consumption = np.array([10,20,2]) \n",
        "material_max = 5000\n",
        "\n",
        "def fitness_func(ga_solution, solution, solution_idx):\n",
        "\n",
        "    # The fitness function should return the benefits obtained from the\n",
        "    # produced assets\n",
        "    #\n",
        "    # BUT, notice that the constraints: at least 10 units per asset and\n",
        "    #                                   TOTAL maximum material consumption less than 5000\n",
        "    #\n",
        "    # If contraints are NOT accomplished, the returned value of the fitness_function should be 0\n",
        "\n",
        "    add.... your own code here\n",
        "\n",
        "    return calculated_margin\n"
      ]
    },
    {
      "cell_type": "code",
      "execution_count": null,
      "metadata": {
        "colab": {
          "base_uri": "https://localhost:8080/"
        },
        "id": "zfdDGgh9Rb_t",
        "outputId": "ba6b8a0e-d9f7-46bf-b134-a8d8ec2a77d3"
      },
      "outputs": [
        {
          "name": "stdout",
          "output_type": "stream",
          "text": [
            "Fitness for correct scenario: 1012.0\n",
            "Fitness for incorrect scenario: 0\n",
            "Fitness for incorrect scenario: 0\n"
          ]
        }
      ],
      "source": [
        "# We check a possible solution\n",
        "print(f\"Fitness for correct scenario: {fitness_func(_,np.array([53, 100, 100]), '')}\") \n",
        "print(f\"Fitness for incorrect scenario: {fitness_func(_,np.array([11, 20, 2]), '')}\") \n",
        "print(f\"Fitness for incorrect scenario: {fitness_func(_,np.array([231, 200, 20]), '')}\") "
      ]
    },
    {
      "cell_type": "markdown",
      "metadata": {
        "id": "1HYNFNVtHZFn"
      },
      "source": [
        "## Create an instance of the pygad.GA class indicating the parameters\n",
        "\n",
        "* You can check the list of paramneters in [PyGAD parameters](https://pygad.readthedocs.io/en/latest/README_pygad_ReadTheDocs.html?ref=blog.paperspace.com#init)"
      ]
    },
    {
      "cell_type": "code",
      "execution_count": null,
      "metadata": {
        "id": "lMNjiYk3CB3a"
      },
      "outputs": [],
      "source": [
        "ga_instance = pygad.GA(num_generations= ...add the values you consider appropiated for the GA parameters,\n",
        "                       sol_per_pop= ...,\n",
        "                       num_genes= ...,\n",
        "                       num_parents_mating= ...,\n",
        "                       fitness_func= ....,\n",
        "                       mutation_type= ....,\n",
        "                       mutation_probability= ....\n",
        "                       )"
      ]
    },
    {
      "cell_type": "markdown",
      "metadata": {
        "id": "YduY-xGiHifw"
      },
      "source": [
        "# After creating the instance, the run() method is called to start the optimization."
      ]
    },
    {
      "cell_type": "code",
      "execution_count": null,
      "metadata": {
        "id": "BlM5WmTDDVFP"
      },
      "outputs": [],
      "source": [
        ".... add your code here"
      ]
    },
    {
      "cell_type": "markdown",
      "metadata": {
        "id": "V0pIsGXVHos-"
      },
      "source": [
        "## After the run() method completes, information about the best solution found by PyGAD can be accessed."
      ]
    },
    {
      "cell_type": "code",
      "execution_count": null,
      "metadata": {
        "id": "-oSSi_m_EWv_"
      },
      "outputs": [],
      "source": [
        "solution, solution_fitness, solution_idx = ....add your code here\n",
        "print(\"Parameters of the best solution : {solution}\".format(solution=solution))\n",
        "print(\"Fitness value of the best solution = {solution_fitness}\".format(solution_fitness=solution_fitness))\n"
      ]
    },
    {
      "cell_type": "code",
      "execution_count": null,
      "metadata": {
        "id": "RigEuQ6uS7E6"
      },
      "outputs": [],
      "source": [
        "print(\"Consumed material : {}\", format( ...add your code here)"
      ]
    },
    {
      "cell_type": "markdown",
      "metadata": {
        "id": "q9EZbsBqIg42"
      },
      "source": [
        "### The plot_fitness() method can be used to show the fitness values over the generations."
      ]
    },
    {
      "cell_type": "code",
      "execution_count": null,
      "metadata": {
        "id": "TLBYh38eIQr2"
      },
      "outputs": [],
      "source": [
        "...add your code here"
      ]
    },
    {
      "cell_type": "markdown",
      "metadata": {
        "id": "rVG5OGMsiGND"
      },
      "source": [
        "---\n",
        "---\n",
        "\n",
        "## Try other similar problems...\n",
        "\n",
        "\n",
        "\n"
      ]
    }
  ],
  "metadata": {
    "colab": {
      "provenance": []
    },
    "gpuClass": "standard",
    "kernelspec": {
      "display_name": "Python 3",
      "name": "python3"
    },
    "language_info": {
      "name": "python",
      "version": "3.11.5"
    }
  },
  "nbformat": 4,
  "nbformat_minor": 0
}
