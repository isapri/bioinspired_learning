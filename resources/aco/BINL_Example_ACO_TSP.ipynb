{
  "cells": [
    {
      "cell_type": "markdown",
      "source": [
        "# <font color=#FF1493>Bio-Inspired Learning</font>\n",
        "\n",
        "## <font color=#FF69B4>Travelling Salesman Optimization (TSP) via Ant Colony Optimization</font>\n",
        "\n",
        "![Image in a markdown cell](https://miro.medium.com/v2/resize:fit:720/format:webp/1*nqbziCrKgqFwDTy7G_fLtA.png)\n",
        "\n",
        "---\n",
        "* #### This Notebooks is based on the [Travel Time Optimization via Ant Colony and Genetic Evolution](https://towardsdatascience.com/using-ant-colony-and-genetic-evolution-to-optimize-ride-sharing-trip-duration-56194215923f)\n",
        "\n",
        "* #### GitHub [Travel Time Optimization via Ant Colony and Genetic Evolution](https://github.com/khanhnamle1994/trip-optimizer/tree/master/Bio-Inspired-Algorithms )\n",
        "\n",
        "---\n",
        "---\n",
        "### <font color=#C0C0C0>Master of Science in Signal Theory and Communications (MUTSC)</font>\n",
        "### *Signal processing and machine learning for big data*\n",
        "## <font color=orange>ETSIT - UPM</font>\n",
        "---"
      ],
      "metadata": {
        "id": "I7xFuu43YNUM"
      }
    },
    {
      "cell_type": "markdown",
      "source": [
        "#### Install [*Haversine*](https://pypi.org/project/haversine/)\n",
        "\n",
        "> Calculate the distance (in various units) between two points on Earth using their latitude and longitude"
      ],
      "metadata": {
        "id": "sPiB4HI6XWAO"
      }
    },
    {
      "cell_type": "code",
      "source": [
        "!pip install geopandas"
      ],
      "metadata": {
        "colab": {
          "base_uri": "https://localhost:8080/"
        },
        "id": "aFCWXIZFcEzi",
        "outputId": "990570dc-6c83-4a86-b306-1d78399912bc"
      },
      "execution_count": 32,
      "outputs": [
        {
          "output_type": "stream",
          "name": "stdout",
          "text": [
            "Looking in indexes: https://pypi.org/simple, https://us-python.pkg.dev/colab-wheels/public/simple/\n",
            "Requirement already satisfied: geopandas in /usr/local/lib/python3.9/dist-packages (0.12.2)\n",
            "Requirement already satisfied: packaging in /usr/local/lib/python3.9/dist-packages (from geopandas) (23.1)\n",
            "Requirement already satisfied: fiona>=1.8 in /usr/local/lib/python3.9/dist-packages (from geopandas) (1.9.3)\n",
            "Requirement already satisfied: pyproj>=2.6.1.post1 in /usr/local/lib/python3.9/dist-packages (from geopandas) (3.5.0)\n",
            "Requirement already satisfied: shapely>=1.7 in /usr/local/lib/python3.9/dist-packages (from geopandas) (2.0.1)\n",
            "Requirement already satisfied: pandas>=1.0.0 in /usr/local/lib/python3.9/dist-packages (from geopandas) (1.5.3)\n",
            "Requirement already satisfied: click~=8.0 in /usr/local/lib/python3.9/dist-packages (from fiona>=1.8->geopandas) (8.1.3)\n",
            "Requirement already satisfied: munch>=2.3.2 in /usr/local/lib/python3.9/dist-packages (from fiona>=1.8->geopandas) (2.5.0)\n",
            "Requirement already satisfied: certifi in /usr/local/lib/python3.9/dist-packages (from fiona>=1.8->geopandas) (2022.12.7)\n",
            "Requirement already satisfied: attrs>=19.2.0 in /usr/local/lib/python3.9/dist-packages (from fiona>=1.8->geopandas) (23.1.0)\n",
            "Requirement already satisfied: importlib-metadata in /usr/local/lib/python3.9/dist-packages (from fiona>=1.8->geopandas) (6.4.1)\n",
            "Requirement already satisfied: cligj>=0.5 in /usr/local/lib/python3.9/dist-packages (from fiona>=1.8->geopandas) (0.7.2)\n",
            "Requirement already satisfied: click-plugins>=1.0 in /usr/local/lib/python3.9/dist-packages (from fiona>=1.8->geopandas) (1.1.1)\n",
            "Requirement already satisfied: python-dateutil>=2.8.1 in /usr/local/lib/python3.9/dist-packages (from pandas>=1.0.0->geopandas) (2.8.2)\n",
            "Requirement already satisfied: numpy>=1.20.3 in /usr/local/lib/python3.9/dist-packages (from pandas>=1.0.0->geopandas) (1.22.4)\n",
            "Requirement already satisfied: pytz>=2020.1 in /usr/local/lib/python3.9/dist-packages (from pandas>=1.0.0->geopandas) (2022.7.1)\n",
            "Requirement already satisfied: six in /usr/local/lib/python3.9/dist-packages (from munch>=2.3.2->fiona>=1.8->geopandas) (1.16.0)\n",
            "Requirement already satisfied: zipp>=0.5 in /usr/local/lib/python3.9/dist-packages (from importlib-metadata->fiona>=1.8->geopandas) (3.15.0)\n"
          ]
        }
      ]
    },
    {
      "cell_type": "code",
      "source": [
        "import pandas as pd"
      ],
      "metadata": {
        "id": "dlVhDKjK3VBa"
      },
      "execution_count": 33,
      "outputs": []
    },
    {
      "cell_type": "code",
      "source": [
        "!pip install haversine"
      ],
      "metadata": {
        "colab": {
          "base_uri": "https://localhost:8080/"
        },
        "id": "8BTwe2kNXFtd",
        "outputId": "4e48d192-42c3-4547-f869-9d5e70531a6c"
      },
      "execution_count": 34,
      "outputs": [
        {
          "output_type": "stream",
          "name": "stdout",
          "text": [
            "Looking in indexes: https://pypi.org/simple, https://us-python.pkg.dev/colab-wheels/public/simple/\n",
            "Requirement already satisfied: haversine in /usr/local/lib/python3.9/dist-packages (2.8.0)\n"
          ]
        }
      ]
    },
    {
      "cell_type": "code",
      "execution_count": 35,
      "metadata": {
        "id": "vlJ_LHHcVZyj"
      },
      "outputs": [],
      "source": [
        "import numpy as np\n",
        "from haversine import haversine, Unit\n",
        "import random, sys, time, math\n",
        "from multiprocessing import Pool\n",
        "\n",
        "from shapely.geometry import Point\n",
        "import geopandas\n",
        "from geopandas import GeoDataFrame\n",
        "\n",
        "\n",
        "%matplotlib inline\n",
        "import matplotlib.pyplot as plt\n",
        "\n",
        "import warnings\n",
        "warnings.filterwarnings('ignore')\n",
        "\n",
        "plt.style.use('seaborn-whitegrid')\n"
      ]
    },
    {
      "cell_type": "markdown",
      "source": [
        "## Data\n",
        "\n",
        "> In data.csv, we have 27 drop-point in which all data belong to cluster 0, and each data has information about latitude and longitude. tracking_id is the unique id for each row of data."
      ],
      "metadata": {
        "id": "Iz4n6H5gYPWd"
      }
    },
    {
      "cell_type": "code",
      "source": [
        "df = pd.DataFrame(\n",
        "    {'City': ['Buenos Aires', 'Brasilia', 'Santiago', 'Bogota', 'Caracas'],\n",
        "     'Country': ['Argentina', 'Brazil', 'Chile', 'Colombia', 'Venezuela'],\n",
        "     'Latitude': [-34.58, -15.78, -33.45, 4.60, 10.48],\n",
        "     'Longitude': [-58.66, -47.91, -70.66, -74.08, -66.86]})"
      ],
      "metadata": {
        "id": "f-GSDGhcbrT5"
      },
      "execution_count": 36,
      "outputs": []
    },
    {
      "cell_type": "code",
      "source": [
        "gdf = geopandas.GeoDataFrame(\n",
        "    df, geometry=geopandas.points_from_xy(df.Longitude, df.Latitude))"
      ],
      "metadata": {
        "id": "01RFJigSbaF6"
      },
      "execution_count": 37,
      "outputs": []
    },
    {
      "cell_type": "code",
      "source": [
        "print(gdf.head())"
      ],
      "metadata": {
        "colab": {
          "base_uri": "https://localhost:8080/"
        },
        "id": "fl1XnHnGcaPa",
        "outputId": "766baaf8-a77c-47a4-d247-87ecdff9847d"
      },
      "execution_count": 38,
      "outputs": [
        {
          "output_type": "stream",
          "name": "stdout",
          "text": [
            "           City    Country  Latitude  Longitude                     geometry\n",
            "0  Buenos Aires  Argentina    -34.58     -58.66  POINT (-58.66000 -34.58000)\n",
            "1      Brasilia     Brazil    -15.78     -47.91  POINT (-47.91000 -15.78000)\n",
            "2      Santiago      Chile    -33.45     -70.66  POINT (-70.66000 -33.45000)\n",
            "3        Bogota   Colombia      4.60     -74.08    POINT (-74.08000 4.60000)\n",
            "4       Caracas  Venezuela     10.48     -66.86   POINT (-66.86000 10.48000)\n"
          ]
        }
      ]
    },
    {
      "cell_type": "code",
      "source": [
        "world = geopandas.read_file(geopandas.datasets.get_path('naturalearth_lowres'))\n",
        "\n",
        "# We restrict to South America.\n",
        "ax = world[world.continent == 'South America'].plot(\n",
        "    color='white', edgecolor='black')\n",
        "\n",
        "# We can now plot our ``GeoDataFrame``.\n",
        "gdf.plot(ax=ax, color='red')\n",
        "\n",
        "for x, y, label in zip(gdf.geometry.x, gdf.geometry.y, gdf.City):\n",
        "    ax.annotate(label, xy=(x, y), xytext=(3, 3), textcoords=\"offset points\")\n",
        "\n",
        "plt.show()"
      ],
      "metadata": {
        "colab": {
          "base_uri": "https://localhost:8080/",
          "height": 425
        },
        "id": "DE3v3klwY9r8",
        "outputId": "cba3c34c-805e-4af5-b493-0df6ed903280"
      },
      "execution_count": 39,
      "outputs": [
        {
          "output_type": "display_data",
          "data": {
            "text/plain": [
              "<Figure size 640x480 with 1 Axes>"
            ],
            "image/png": "[encoded data removed]"
          },
          "metadata": {}
        }
      ]
    },
    {
      "cell_type": "code",
      "source": [
        "len(df)"
      ],
      "metadata": {
        "colab": {
          "base_uri": "https://localhost:8080/"
        },
        "id": "trcvh5dtWNuZ",
        "outputId": "b0ed1ef6-3009-40cd-efb3-6d08d5577391"
      },
      "execution_count": null,
      "outputs": [
        {
          "output_type": "execute_result",
          "data": {
            "text/plain": [
              "5"
            ]
          },
          "metadata": {},
          "execution_count": 9
        }
      ]
    },
    {
      "cell_type": "code",
      "source": [
        "df.head()"
      ],
      "metadata": {
        "colab": {
          "base_uri": "https://localhost:8080/",
          "height": 206
        },
        "id": "Waa_MSJBZQA1",
        "outputId": "552a5531-a2fe-4bc2-c662-8154e397d3b1"
      },
      "execution_count": 40,
      "outputs": [
        {
          "output_type": "execute_result",
          "data": {
            "text/plain": [
              "           City    Country  Latitude  Longitude                     geometry\n",
              "0  Buenos Aires  Argentina    -34.58     -58.66  POINT (-58.66000 -34.58000)\n",
              "1      Brasilia     Brazil    -15.78     -47.91  POINT (-47.91000 -15.78000)\n",
              "2      Santiago      Chile    -33.45     -70.66  POINT (-70.66000 -33.45000)\n",
              "3        Bogota   Colombia      4.60     -74.08    POINT (-74.08000 4.60000)\n",
              "4       Caracas  Venezuela     10.48     -66.86   POINT (-66.86000 10.48000)"
            ],
            "text/html": [
              "\n",
              "  <div id=\"df-160a63ea-d0d5-46c7-bcab-021ce1cdd1da\">\n",
              "    <div class=\"colab-df-container\">\n",
              "      <div>\n",
              "<style scoped>\n",
              "    .dataframe tbody tr th:only-of-type {\n",
              "        vertical-align: middle;\n",
              "    }\n",
              "\n",
              "    .dataframe tbody tr th {\n",
              "        vertical-align: top;\n",
              "    }\n",
              "\n",
              "    .dataframe thead th {\n",
              "        text-align: right;\n",
              "    }\n",
              "</style>\n",
              "<table border=\"1\" class=\"dataframe\">\n",
              "  <thead>\n",
              "    <tr style=\"text-align: right;\">\n",
              "      <th></th>\n",
              "      <th>City</th>\n",
              "      <th>Country</th>\n",
              "      <th>Latitude</th>\n",
              "      <th>Longitude</th>\n",
              "      <th>geometry</th>\n",
              "    </tr>\n",
              "  </thead>\n",
              "  <tbody>\n",
              "    <tr>\n",
              "      <th>0</th>\n",
              "      <td>Buenos Aires</td>\n",
              "      <td>Argentina</td>\n",
              "      <td>-34.58</td>\n",
              "      <td>-58.66</td>\n",
              "      <td>POINT (-58.66000 -34.58000)</td>\n",
              "    </tr>\n",
              "    <tr>\n",
              "      <th>1</th>\n",
              "      <td>Brasilia</td>\n",
              "      <td>Brazil</td>\n",
              "      <td>-15.78</td>\n",
              "      <td>-47.91</td>\n",
              "      <td>POINT (-47.91000 -15.78000)</td>\n",
              "    </tr>\n",
              "    <tr>\n",
              "      <th>2</th>\n",
              "      <td>Santiago</td>\n",
              "      <td>Chile</td>\n",
              "      <td>-33.45</td>\n",
              "      <td>-70.66</td>\n",
              "      <td>POINT (-70.66000 -33.45000)</td>\n",
              "    </tr>\n",
              "    <tr>\n",
              "      <th>3</th>\n",
              "      <td>Bogota</td>\n",
              "      <td>Colombia</td>\n",
              "      <td>4.60</td>\n",
              "      <td>-74.08</td>\n",
              "      <td>POINT (-74.08000 4.60000)</td>\n",
              "    </tr>\n",
              "    <tr>\n",
              "      <th>4</th>\n",
              "      <td>Caracas</td>\n",
              "      <td>Venezuela</td>\n",
              "      <td>10.48</td>\n",
              "      <td>-66.86</td>\n",
              "      <td>POINT (-66.86000 10.48000)</td>\n",
              "    </tr>\n",
              "  </tbody>\n",
              "</table>\n",
              "</div>\n",
              "      <button class=\"colab-df-convert\" onclick=\"convertToInteractive('df-160a63ea-d0d5-46c7-bcab-021ce1cdd1da')\"\n",
              "              title=\"Convert this dataframe to an interactive table.\"\n",
              "              style=\"display:none;\">\n",
              "        \n",
              "  <svg xmlns=\"http://www.w3.org/2000/svg\" height=\"24px\"viewBox=\"0 0 24 24\"\n",
              "       width=\"24px\">\n",
              "    <path d=\"M0 0h24v24H0V0z\" fill=\"none\"/>\n",
              "    <path d=\"M18.56 5.44l.94 2.06.94-2.06 2.06-.94-2.06-.94-.94-2.06-.94 2.06-2.06.94zm-11 1L8.5 8.5l.94-2.06 2.06-.94-2.06-.94L8.5 2.5l-.94 2.06-2.06.94zm10 10l.94 2.06.94-2.06 2.06-.94-2.06-.94-.94-2.06-.94 2.06-2.06.94z\"/><path d=\"M17.41 7.96l-1.37-1.37c-.4-.4-.92-.59-1.43-.59-.52 0-1.04.2-1.43.59L10.3 9.45l-7.72 7.72c-.78.78-.78 2.05 0 2.83L4 21.41c.39.39.9.59 1.41.59.51 0 1.02-.2 1.41-.59l7.78-7.78 2.81-2.81c.8-.78.8-2.07 0-2.86zM5.41 20L4 18.59l7.72-7.72 1.47 1.35L5.41 20z\"/>\n",
              "  </svg>\n",
              "      </button>\n",
              "      \n",
              "  <style>\n",
              "    .colab-df-container {\n",
              "      display:flex;\n",
              "      flex-wrap:wrap;\n",
              "      gap: 12px;\n",
              "    }\n",
              "\n",
              "    .colab-df-convert {\n",
              "      background-color: #E8F0FE;\n",
              "      border: none;\n",
              "      border-radius: 50%;\n",
              "      cursor: pointer;\n",
              "      display: none;\n",
              "      fill: #1967D2;\n",
              "      height: 32px;\n",
              "      padding: 0 0 0 0;\n",
              "      width: 32px;\n",
              "    }\n",
              "\n",
              "    .colab-df-convert:hover {\n",
              "      background-color: #E2EBFA;\n",
              "      box-shadow: 0px 1px 2px rgba(60, 64, 67, 0.3), 0px 1px 3px 1px rgba(60, 64, 67, 0.15);\n",
              "      fill: #174EA6;\n",
              "    }\n",
              "\n",
              "    [theme=dark] .colab-df-convert {\n",
              "      background-color: #3B4455;\n",
              "      fill: #D2E3FC;\n",
              "    }\n",
              "\n",
              "    [theme=dark] .colab-df-convert:hover {\n",
              "      background-color: #434B5C;\n",
              "      box-shadow: 0px 1px 3px 1px rgba(0, 0, 0, 0.15);\n",
              "      filter: drop-shadow(0px 1px 2px rgba(0, 0, 0, 0.3));\n",
              "      fill: #FFFFFF;\n",
              "    }\n",
              "  </style>\n",
              "\n",
              "      <script>\n",
              "        const buttonEl =\n",
              "          document.querySelector('#df-160a63ea-d0d5-46c7-bcab-021ce1cdd1da button.colab-df-convert');\n",
              "        buttonEl.style.display =\n",
              "          google.colab.kernel.accessAllowed ? 'block' : 'none';\n",
              "\n",
              "        async function convertToInteractive(key) {\n",
              "          const element = document.querySelector('#df-160a63ea-d0d5-46c7-bcab-021ce1cdd1da');\n",
              "          const dataTable =\n",
              "            await google.colab.kernel.invokeFunction('convertToInteractive',\n",
              "                                                     [key], {});\n",
              "          if (!dataTable) return;\n",
              "\n",
              "          const docLinkHtml = 'Like what you see? Visit the ' +\n",
              "            '<a target=\"_blank\" href=https://colab.research.google.com/notebooks/data_table.ipynb>data table notebook</a>'\n",
              "            + ' to learn more about interactive tables.';\n",
              "          element.innerHTML = '';\n",
              "          dataTable['output_type'] = 'display_data';\n",
              "          await google.colab.output.renderOutput(dataTable, element);\n",
              "          const docLink = document.createElement('div');\n",
              "          docLink.innerHTML = docLinkHtml;\n",
              "          element.appendChild(docLink);\n",
              "        }\n",
              "      </script>\n",
              "    </div>\n",
              "  </div>\n",
              "  "
            ]
          },
          "metadata": {},
          "execution_count": 40
        }
      ]
    },
    {
      "cell_type": "markdown",
      "source": [
        "## Distance matrix\n",
        "\n",
        "> Prepare the distance matrix from our latitude and longitude of data.\n",
        "\n",
        "We use haversine to get distance among the geo-location. We set the result in unit meter, but later we divide it by 1000 convert it into unit km. So, our result will show in km.\n",
        "\n",
        "https://github.com/ppoffice/ant-colony-tsp/blob/master/aco.py\n"
      ],
      "metadata": {
        "id": "n493CoWNZamc"
      }
    },
    {
      "cell_type": "code",
      "source": [
        "# construct the distance matrix based on haversine\n",
        "from haversine import haversine, Unit\n",
        "\n",
        "distance = []\n",
        "for i in range(len(df)):\n",
        "    lat = df.iloc[i]['Latitude']\n",
        "    lng = df.iloc[i]['Longitude']\n",
        "    from_node = (lng, lat)\n",
        "    result = []\n",
        "    for j in range(len(df)):\n",
        "        lat = df.iloc[j]['Latitude']\n",
        "        lng = df.iloc[j]['Longitude']\n",
        "        to_node = (lng, lat)\n",
        "        dist = round(haversine(from_node, to_node,\n",
        "                unit=Unit.METERS))\n",
        "        result.append(dist/1000)\n",
        "    distance.append(result)\n",
        "    \n",
        "print(distance)"
      ],
      "metadata": {
        "colab": {
          "base_uri": "https://localhost:8080/"
        },
        "id": "1uueKRUYZaE8",
        "outputId": "e7beb23f-499c-4c5a-82b9-d0a2379d949f"
      },
      "execution_count": 41,
      "outputs": [
        {
          "output_type": "stream",
          "name": "stdout",
          "text": [
            "[[0.0, 1718.267, 1335.367, 2364.324, 2402.116], [1718.267, 0.0, 2697.011, 3072.05, 2588.097], [1335.367, 2697.011, 0.0, 1310.67, 1776.256], [2364.324, 3072.05, 1310.67, 0.0, 831.083], [2402.116, 2588.097, 1776.256, 831.083, 0.0]]\n"
          ]
        }
      ]
    },
    {
      "cell_type": "code",
      "source": [
        "%matplotlib inline\n",
        "import matplotlib.pyplot as plt\n",
        "\n",
        "ax = plt.gca()\n",
        "ax.imshow(distance)\n",
        "\n",
        "ax.set_xticklabels(['Buenos Aires', 'Brasilia', 'Santiago', 'Bogota', 'Caracas'])\n",
        "ax.set_yticklabels(['Buenos Aires', 'Brasilia', 'Santiago', 'Bogota', 'Caracas'])\n",
        "\n",
        "plt.show()"
      ],
      "metadata": {
        "colab": {
          "base_uri": "https://localhost:8080/",
          "height": 425
        },
        "id": "9B5rABlzbzv0",
        "outputId": "a2c7e64d-c8aa-4e34-8706-51c4ef5d8461"
      },
      "execution_count": 42,
      "outputs": [
        {
          "output_type": "display_data",
          "data": {
            "text/plain": [
              "<Figure size 640x480 with 1 Axes>"
            ],
            "image/png": "[encoded data removed]"
          },
          "metadata": {}
        }
      ]
    },
    {
      "cell_type": "markdown",
      "source": [
        "* ### Graph initialized with matrix of cities distances and initial pheromones\n",
        "\n",
        "> = 1/ num_cities^2 = 1/ (rank^rank)"
      ],
      "metadata": {
        "id": "kP3ebFQqRr6x"
      }
    },
    {
      "cell_type": "code",
      "source": [
        "class Graph(object):\n",
        "    def __init__(self, cost_matrix: list, rank: int):\n",
        "        \"\"\"\n",
        "        :param cost_matrix:\n",
        "        :param rank: rank of the cost matrix\n",
        "        \"\"\"\n",
        "        self.matrix = cost_matrix\n",
        "        self.rank = rank\n",
        "        self.pheromone = [[1 / (rank * rank)\n",
        "                           for j in range(rank)] for i in range(rank)]"
      ],
      "metadata": {
        "id": "TFuAMrt8Hw_V"
      },
      "execution_count": 43,
      "outputs": []
    },
    {
      "cell_type": "code",
      "source": [
        "test_graph = Graph(distance, len(df))"
      ],
      "metadata": {
        "id": "0mYx6gL9Izri"
      },
      "execution_count": 44,
      "outputs": []
    },
    {
      "cell_type": "code",
      "source": [
        "test_graph.pheromone[0][0:4]"
      ],
      "metadata": {
        "colab": {
          "base_uri": "https://localhost:8080/"
        },
        "id": "wOtp0snDI56B",
        "outputId": "5404f3c8-3ea7-4a6e-d607-8a98211f3591"
      },
      "execution_count": 45,
      "outputs": [
        {
          "output_type": "execute_result",
          "data": {
            "text/plain": [
              "[0.04, 0.04, 0.04, 0.04]"
            ]
          },
          "metadata": {},
          "execution_count": 45
        }
      ]
    },
    {
      "cell_type": "code",
      "source": [
        "1/(5*5)"
      ],
      "metadata": {
        "colab": {
          "base_uri": "https://localhost:8080/"
        },
        "id": "8tm3OmV7SWQA",
        "outputId": "bd136e94-d5e2-4fa4-d057-e4ca76344119"
      },
      "execution_count": null,
      "outputs": [
        {
          "output_type": "execute_result",
          "data": {
            "text/plain": [
              "0.04"
            ]
          },
          "metadata": {},
          "execution_count": 16
        }
      ]
    },
    {
      "cell_type": "code",
      "source": [
        "test_graph.matrix[0][0:4]"
      ],
      "metadata": {
        "colab": {
          "base_uri": "https://localhost:8080/"
        },
        "id": "EBFD3dVNKTER",
        "outputId": "b08c68c0-2e99-4617-bba2-e359adb354e4"
      },
      "execution_count": 46,
      "outputs": [
        {
          "output_type": "execute_result",
          "data": {
            "text/plain": [
              "[0.0, 1718.267, 1335.367, 2364.324]"
            ]
          },
          "metadata": {},
          "execution_count": 46
        }
      ]
    },
    {
      "cell_type": "markdown",
      "source": [
        "\n",
        "## The ACO class\n",
        "\n",
        "*     After each ant generates their corresponding solution, the pheromone matrix is updated.\n",
        "\n",
        "*     How this is done depends on the strategy employed. In this solution, I update each pheromone edge by first multiplying it by p (the residual coefficient). This represents the rate at which the pheromones “evaporate” or decrease their influence.\n",
        "\n",
        "*      We then add to the pheromone edge q/c where q represents the pheromone intensity and C represents the total cost of the generated path. \n",
        "\n",
        "*      Because the travel time cost is in the denominator, paths with greater travel times will have a lower probability of being picked. This process is repeated for g number of times, where g represents the number of generation"
      ],
      "metadata": {
        "id": "IEW3hU0Dg3HB"
      }
    },
    {
      "cell_type": "markdown",
      "source": [
        "### Note that the original blog includes info on \"travel time\"\n",
        "\n",
        "> I will have my pheromone quality tau equivalent to lower travel times. \n",
        "> Each edge in the complete graph will have a corresponding inverse travel time cost eta and pheromone tau."
      ],
      "metadata": {
        "id": "uX0ey0qTgnLi"
      }
    },
    {
      "cell_type": "code",
      "source": [
        "class ACO(object):\n",
        "    def __init__(self, ant_count: int, generations: int, alpha: float, beta: float, rho: float, q: int,\n",
        "                 strategy: int):\n",
        "        \"\"\"\n",
        "        :param ant_count:\n",
        "        :param generations:\n",
        "        :param alpha: relative importance of pheromone\n",
        "        :param beta: relative importance of heuristic information\n",
        "        :param rho: pheromone residual coefficient\n",
        "        :param q: pheromone intensity\n",
        "        :param strategy: pheromone update strategy. 0 - ant-cycle, 1 - ant-quality, 2 - ant-density\n",
        "        \"\"\"\n",
        "        self.Q = q\n",
        "        self.rho = rho\n",
        "        self.beta = beta\n",
        "        self.alpha = alpha\n",
        "        self.ant_count = ant_count\n",
        "        self.generations = generations\n",
        "        self.update_strategy = strategy\n",
        "\n",
        "    def _update_pheromone(self, graph: Graph, ants: list):\n",
        "        for i, row in enumerate(graph.pheromone):\n",
        "            for j, col in enumerate(row):\n",
        "                graph.pheromone[i][j] *= self.rho\n",
        "                for ant in ants:\n",
        "                    graph.pheromone[i][j] += ant.pheromone_delta[i][j]\n",
        "\n",
        "    # noinspection PyProtectedMember\n",
        "    def solve(self, graph: Graph, verbose: bool = False):\n",
        "        \"\"\"\n",
        "        :param graph:\n",
        "        \"\"\"\n",
        "        best_cost = float('inf')\n",
        "        best_solution = []\n",
        "        avg_costs = []\n",
        "        best_costs = []\n",
        "        for gen in range(self.generations):\n",
        "            # noinspection PyUnusedLocal\n",
        "            ants = [_Ant(self, graph) for i in range(self.ant_count)]\n",
        "            for ant in ants:\n",
        "                curr_cost = []\n",
        "                for i in range(graph.rank - 1):\n",
        "                    ant._select_next()\n",
        "                ant.total_cost += graph.matrix[ant.tabu[-1]][ant.tabu[0]]\n",
        "                curr_cost.append(ant.total_cost)\n",
        "                if ant.total_cost < best_cost:\n",
        "                    best_cost = ant.total_cost\n",
        "                    best_solution = [] + ant.tabu\n",
        "                # update pheromone\n",
        "                ant._update_pheromone_delta()\n",
        "            self._update_pheromone(graph, ants)\n",
        "            best_costs.append(best_cost)\n",
        "            avg_costs.append(np.mean(curr_cost))\n",
        "            if verbose:\n",
        "                print('Generation #{} best cost: {}, avg cost: {}, path: {}'.format(\n",
        "                    gen+1, best_cost, avg_costs[-1], best_solution))\n",
        "        return best_solution, best_cost, avg_costs, best_costs\n"
      ],
      "metadata": {
        "id": "ZW_B-Q_QhcOa"
      },
      "execution_count": 47,
      "outputs": []
    },
    {
      "cell_type": "markdown",
      "source": [
        "### The ANT Class"
      ],
      "metadata": {
        "id": "40-eG2vSL1Cv"
      }
    },
    {
      "cell_type": "code",
      "source": [
        "class _Ant(object):\n",
        "    def __init__(self, aco: ACO, graph: Graph):\n",
        "        self.colony = aco\n",
        "        self.graph = graph\n",
        "        self.total_cost = 0.0\n",
        "        self.tabu = []  # tabu list\n",
        "        self.pheromone_delta = []  # the local increase of pheromone\n",
        "        self.allowed = [i for i in range(graph.rank)]  # nodes which are allowed for the next selection\n",
        "        self.eta = [[0 if i == j else 1 / graph.matrix[i][j] for j in range(graph.rank)] for i in\n",
        "                    range(graph.rank)]  # heuristic information\n",
        "        start = random.randint(0, graph.rank - 1)  # start from any node\n",
        "        self.tabu.append(start)\n",
        "        self.current = start\n",
        "        self.allowed.remove(start)\n",
        "\n",
        "    def _select_next(self):\n",
        "        denominator = 0\n",
        "        for i in self.allowed:\n",
        "            denominator += self.graph.pheromone[self.current][i] ** self.colony.alpha * self.eta[self.current][\n",
        "                                                                                            i] ** self.colony.beta\n",
        "        # noinspection PyUnusedLocal\n",
        "        probabilities = [0 for i in range(self.graph.rank)]  # probabilities for moving to a node in the next step\n",
        "        for i in range(self.graph.rank):\n",
        "            try:\n",
        "                self.allowed.index(i)  # test if allowed list contains i\n",
        "                probabilities[i] = self.graph.pheromone[self.current][i] ** self.colony.alpha * \\\n",
        "                    self.eta[self.current][i] ** self.colony.beta / denominator\n",
        "            except ValueError:\n",
        "                pass  # do nothing\n",
        "        # select next node by probability roulette\n",
        "        selected = 0\n",
        "        rand = random.random()\n",
        "        for i, probability in enumerate(probabilities):\n",
        "            rand -= probability\n",
        "            if rand <= 0:\n",
        "                selected = i\n",
        "                break\n",
        "        self.allowed.remove(selected)\n",
        "        self.tabu.append(selected)\n",
        "        self.total_cost += self.graph.matrix[self.current][selected]\n",
        "        self.current = selected\n",
        "\n",
        "    # noinspection PyUnusedLocal\n",
        "    def _update_pheromone_delta(self):\n",
        "        self.pheromone_delta = [[0 for j in range(self.graph.rank)] for i in range(self.graph.rank)]\n",
        "        for _ in range(1, len(self.tabu)):\n",
        "            i = self.tabu[_ - 1]\n",
        "            j = self.tabu[_]\n",
        "            if self.colony.update_strategy == 1:  # ant-quality system\n",
        "                self.pheromone_delta[i][j] = self.colony.Q\n",
        "            elif self.colony.update_strategy == 2:  # ant-density system\n",
        "                # noinspection PyTypeChecker\n",
        "                self.pheromone_delta[i][j] = self.colony.Q / self.graph.matrix[i][j]\n",
        "            else:  # ant-cycle system\n",
        "                self.pheromone_delta[i][j] = self.colony.Q / self.total_cost"
      ],
      "metadata": {
        "id": "tpPPplavLqAy"
      },
      "execution_count": 48,
      "outputs": []
    },
    {
      "cell_type": "code",
      "source": [
        "aco = ACO(10, 100, 1.0, 10.0, 0.5, 10, 2)\n",
        "graph = Graph(distance, len(df))"
      ],
      "metadata": {
        "id": "EOk8ce27Mcph"
      },
      "execution_count": 49,
      "outputs": []
    },
    {
      "cell_type": "code",
      "source": [
        "graph.rank"
      ],
      "metadata": {
        "colab": {
          "base_uri": "https://localhost:8080/"
        },
        "id": "eSlH2LYPS89B",
        "outputId": "159a89d4-c900-4b52-9cd4-da9490ed45f4"
      },
      "execution_count": 50,
      "outputs": [
        {
          "output_type": "execute_result",
          "data": {
            "text/plain": [
              "5"
            ]
          },
          "metadata": {},
          "execution_count": 50
        }
      ]
    },
    {
      "cell_type": "markdown",
      "source": [
        "# Create ants"
      ],
      "metadata": {
        "id": "9opG_BWBNjfa"
      }
    },
    {
      "cell_type": "code",
      "source": [
        "ant_object = _Ant(aco,graph)"
      ],
      "metadata": {
        "id": "v_oIOAwINh6y"
      },
      "execution_count": 76,
      "outputs": []
    },
    {
      "cell_type": "code",
      "source": [
        "ant_count = 5\n",
        "\n",
        "ants = [ant_object for i in range(ant_count)]"
      ],
      "metadata": {
        "id": "_GBu3fVWM8kB"
      },
      "execution_count": 81,
      "outputs": []
    },
    {
      "cell_type": "code",
      "source": [
        "# Get results from ant colony, specify whether verbose output\n",
        "best_solution, best_cost, avg_costs, best_cost = aco.solve(graph, True)"
      ],
      "metadata": {
        "colab": {
          "base_uri": "https://localhost:8080/"
        },
        "id": "aOZINGEgbDU0",
        "outputId": "72b7b44e-d846-4a33-8be8-cea154bbd8c1"
      },
      "execution_count": 82,
      "outputs": [
        {
          "output_type": "stream",
          "name": "stdout",
          "text": [
            "Generation #1 best cost: 7783.484, avg cost: 7783.484, path: [4, 3, 2, 0, 1]\n",
            "Generation #2 best cost: 7783.4839999999995, avg cost: 7783.484, path: [2, 0, 1, 4, 3]\n",
            "Generation #3 best cost: 7783.4839999999995, avg cost: 7783.484, path: [2, 0, 1, 4, 3]\n",
            "Generation #4 best cost: 7783.4839999999995, avg cost: 8733.023000000001, path: [2, 0, 1, 4, 3]\n",
            "Generation #5 best cost: 7783.4839999999995, avg cost: 8733.023, path: [2, 0, 1, 4, 3]\n",
            "Generation #6 best cost: 7783.4839999999995, avg cost: 7783.484, path: [2, 0, 1, 4, 3]\n",
            "Generation #7 best cost: 7783.4839999999995, avg cost: 7783.484, path: [2, 0, 1, 4, 3]\n",
            "Generation #8 best cost: 7783.4839999999995, avg cost: 8733.023000000001, path: [2, 0, 1, 4, 3]\n",
            "Generation #9 best cost: 7783.4839999999995, avg cost: 7783.484, path: [2, 0, 1, 4, 3]\n",
            "Generation #10 best cost: 7783.4839999999995, avg cost: 8733.023000000001, path: [2, 0, 1, 4, 3]\n",
            "Generation #11 best cost: 7783.4839999999995, avg cost: 7783.484, path: [2, 0, 1, 4, 3]\n",
            "Generation #12 best cost: 7783.4839999999995, avg cost: 7783.484, path: [2, 0, 1, 4, 3]\n",
            "Generation #13 best cost: 7783.4839999999995, avg cost: 7783.484, path: [2, 0, 1, 4, 3]\n",
            "Generation #14 best cost: 7783.4839999999995, avg cost: 8733.023000000001, path: [2, 0, 1, 4, 3]\n",
            "Generation #15 best cost: 7783.4839999999995, avg cost: 7783.484, path: [2, 0, 1, 4, 3]\n",
            "Generation #16 best cost: 7783.4839999999995, avg cost: 8733.023000000001, path: [2, 0, 1, 4, 3]\n",
            "Generation #17 best cost: 7783.4839999999995, avg cost: 7783.484, path: [2, 0, 1, 4, 3]\n",
            "Generation #18 best cost: 7783.4839999999995, avg cost: 7783.484, path: [2, 0, 1, 4, 3]\n",
            "Generation #19 best cost: 7783.4839999999995, avg cost: 7783.484, path: [2, 0, 1, 4, 3]\n",
            "Generation #20 best cost: 7783.4839999999995, avg cost: 7783.484, path: [2, 0, 1, 4, 3]\n",
            "Generation #21 best cost: 7783.4839999999995, avg cost: 7783.4839999999995, path: [2, 0, 1, 4, 3]\n",
            "Generation #22 best cost: 7783.4839999999995, avg cost: 8733.023000000001, path: [2, 0, 1, 4, 3]\n",
            "Generation #23 best cost: 7783.4839999999995, avg cost: 8733.023000000001, path: [2, 0, 1, 4, 3]\n",
            "Generation #24 best cost: 7783.4839999999995, avg cost: 7783.484, path: [2, 0, 1, 4, 3]\n",
            "Generation #25 best cost: 7783.4839999999995, avg cost: 7783.4839999999995, path: [2, 0, 1, 4, 3]\n",
            "Generation #26 best cost: 7783.4839999999995, avg cost: 7783.484, path: [2, 0, 1, 4, 3]\n",
            "Generation #27 best cost: 7783.4839999999995, avg cost: 7783.4839999999995, path: [2, 0, 1, 4, 3]\n",
            "Generation #28 best cost: 7783.4839999999995, avg cost: 7783.4839999999995, path: [2, 0, 1, 4, 3]\n",
            "Generation #29 best cost: 7783.4839999999995, avg cost: 8733.023000000001, path: [2, 0, 1, 4, 3]\n",
            "Generation #30 best cost: 7783.4839999999995, avg cost: 8733.023000000001, path: [2, 0, 1, 4, 3]\n",
            "Generation #31 best cost: 7783.4839999999995, avg cost: 8733.023000000001, path: [2, 0, 1, 4, 3]\n",
            "Generation #32 best cost: 7783.4839999999995, avg cost: 7783.484, path: [2, 0, 1, 4, 3]\n",
            "Generation #33 best cost: 7783.4839999999995, avg cost: 7783.484, path: [2, 0, 1, 4, 3]\n",
            "Generation #34 best cost: 7783.4839999999995, avg cost: 7783.484, path: [2, 0, 1, 4, 3]\n",
            "Generation #35 best cost: 7783.4839999999995, avg cost: 7783.484, path: [2, 0, 1, 4, 3]\n",
            "Generation #36 best cost: 7783.4839999999995, avg cost: 7783.484, path: [2, 0, 1, 4, 3]\n",
            "Generation #37 best cost: 7783.4839999999995, avg cost: 7783.484, path: [2, 0, 1, 4, 3]\n",
            "Generation #38 best cost: 7783.4839999999995, avg cost: 7783.484, path: [2, 0, 1, 4, 3]\n",
            "Generation #39 best cost: 7783.4839999999995, avg cost: 8733.023000000001, path: [2, 0, 1, 4, 3]\n",
            "Generation #40 best cost: 7783.4839999999995, avg cost: 7783.484, path: [2, 0, 1, 4, 3]\n",
            "Generation #41 best cost: 7783.4839999999995, avg cost: 8733.023000000001, path: [2, 0, 1, 4, 3]\n",
            "Generation #42 best cost: 7783.4839999999995, avg cost: 7783.484, path: [2, 0, 1, 4, 3]\n",
            "Generation #43 best cost: 7783.4839999999995, avg cost: 7783.484, path: [2, 0, 1, 4, 3]\n",
            "Generation #44 best cost: 7783.4839999999995, avg cost: 7783.484, path: [2, 0, 1, 4, 3]\n",
            "Generation #45 best cost: 7783.4839999999995, avg cost: 8733.023000000001, path: [2, 0, 1, 4, 3]\n",
            "Generation #46 best cost: 7783.4839999999995, avg cost: 7783.484, path: [2, 0, 1, 4, 3]\n",
            "Generation #47 best cost: 7783.4839999999995, avg cost: 7783.484, path: [2, 0, 1, 4, 3]\n",
            "Generation #48 best cost: 7783.4839999999995, avg cost: 8733.023000000001, path: [2, 0, 1, 4, 3]\n",
            "Generation #49 best cost: 7783.4839999999995, avg cost: 7783.484, path: [2, 0, 1, 4, 3]\n",
            "Generation #50 best cost: 7783.4839999999995, avg cost: 7783.4839999999995, path: [2, 0, 1, 4, 3]\n",
            "Generation #51 best cost: 7783.4839999999995, avg cost: 7783.484, path: [2, 0, 1, 4, 3]\n",
            "Generation #52 best cost: 7783.4839999999995, avg cost: 8733.023000000001, path: [2, 0, 1, 4, 3]\n",
            "Generation #53 best cost: 7783.4839999999995, avg cost: 7783.484, path: [2, 0, 1, 4, 3]\n",
            "Generation #54 best cost: 7783.4839999999995, avg cost: 7783.484, path: [2, 0, 1, 4, 3]\n",
            "Generation #55 best cost: 7783.4839999999995, avg cost: 8733.023000000001, path: [2, 0, 1, 4, 3]\n",
            "Generation #56 best cost: 7783.4839999999995, avg cost: 7783.484, path: [2, 0, 1, 4, 3]\n",
            "Generation #57 best cost: 7783.4839999999995, avg cost: 7783.484, path: [2, 0, 1, 4, 3]\n",
            "Generation #58 best cost: 7783.4839999999995, avg cost: 7783.484, path: [2, 0, 1, 4, 3]\n",
            "Generation #59 best cost: 7783.4839999999995, avg cost: 7783.484, path: [2, 0, 1, 4, 3]\n",
            "Generation #60 best cost: 7783.4839999999995, avg cost: 7783.484, path: [2, 0, 1, 4, 3]\n",
            "Generation #61 best cost: 7783.4839999999995, avg cost: 7783.484, path: [2, 0, 1, 4, 3]\n",
            "Generation #62 best cost: 7783.4839999999995, avg cost: 7783.4839999999995, path: [2, 0, 1, 4, 3]\n",
            "Generation #63 best cost: 7783.4839999999995, avg cost: 7783.484, path: [2, 0, 1, 4, 3]\n",
            "Generation #64 best cost: 7783.4839999999995, avg cost: 7783.484, path: [2, 0, 1, 4, 3]\n",
            "Generation #65 best cost: 7783.4839999999995, avg cost: 8733.023000000001, path: [2, 0, 1, 4, 3]\n",
            "Generation #66 best cost: 7783.4839999999995, avg cost: 8733.023000000001, path: [2, 0, 1, 4, 3]\n",
            "Generation #67 best cost: 7783.4839999999995, avg cost: 7783.484, path: [2, 0, 1, 4, 3]\n",
            "Generation #68 best cost: 7783.4839999999995, avg cost: 7783.484, path: [2, 0, 1, 4, 3]\n",
            "Generation #69 best cost: 7783.4839999999995, avg cost: 7783.484, path: [2, 0, 1, 4, 3]\n",
            "Generation #70 best cost: 7783.4839999999995, avg cost: 7783.484, path: [2, 0, 1, 4, 3]\n",
            "Generation #71 best cost: 7783.4839999999995, avg cost: 7783.484, path: [2, 0, 1, 4, 3]\n",
            "Generation #72 best cost: 7783.4839999999995, avg cost: 7783.484, path: [2, 0, 1, 4, 3]\n",
            "Generation #73 best cost: 7783.4839999999995, avg cost: 7783.4839999999995, path: [2, 0, 1, 4, 3]\n",
            "Generation #74 best cost: 7783.4839999999995, avg cost: 8733.023000000001, path: [2, 0, 1, 4, 3]\n",
            "Generation #75 best cost: 7783.4839999999995, avg cost: 7783.484, path: [2, 0, 1, 4, 3]\n",
            "Generation #76 best cost: 7783.4839999999995, avg cost: 7783.484, path: [2, 0, 1, 4, 3]\n",
            "Generation #77 best cost: 7783.4839999999995, avg cost: 7783.484, path: [2, 0, 1, 4, 3]\n",
            "Generation #78 best cost: 7783.4839999999995, avg cost: 7783.484, path: [2, 0, 1, 4, 3]\n",
            "Generation #79 best cost: 7783.4839999999995, avg cost: 8733.023000000001, path: [2, 0, 1, 4, 3]\n",
            "Generation #80 best cost: 7783.4839999999995, avg cost: 7783.484, path: [2, 0, 1, 4, 3]\n",
            "Generation #81 best cost: 7783.4839999999995, avg cost: 7783.484, path: [2, 0, 1, 4, 3]\n",
            "Generation #82 best cost: 7783.4839999999995, avg cost: 7783.484, path: [2, 0, 1, 4, 3]\n",
            "Generation #83 best cost: 7783.4839999999995, avg cost: 7783.484, path: [2, 0, 1, 4, 3]\n",
            "Generation #84 best cost: 7783.4839999999995, avg cost: 8733.023000000001, path: [2, 0, 1, 4, 3]\n",
            "Generation #85 best cost: 7783.4839999999995, avg cost: 7783.484, path: [2, 0, 1, 4, 3]\n",
            "Generation #86 best cost: 7783.4839999999995, avg cost: 7783.484, path: [2, 0, 1, 4, 3]\n",
            "Generation #87 best cost: 7783.4839999999995, avg cost: 7783.484, path: [2, 0, 1, 4, 3]\n",
            "Generation #88 best cost: 7783.4839999999995, avg cost: 7783.484, path: [2, 0, 1, 4, 3]\n",
            "Generation #89 best cost: 7783.4839999999995, avg cost: 8733.023000000001, path: [2, 0, 1, 4, 3]\n",
            "Generation #90 best cost: 7783.4839999999995, avg cost: 7783.484, path: [2, 0, 1, 4, 3]\n",
            "Generation #91 best cost: 7783.4839999999995, avg cost: 7783.484, path: [2, 0, 1, 4, 3]\n",
            "Generation #92 best cost: 7783.4839999999995, avg cost: 7783.484, path: [2, 0, 1, 4, 3]\n",
            "Generation #93 best cost: 7783.4839999999995, avg cost: 8733.023000000001, path: [2, 0, 1, 4, 3]\n",
            "Generation #94 best cost: 7783.4839999999995, avg cost: 7783.484, path: [2, 0, 1, 4, 3]\n",
            "Generation #95 best cost: 7783.4839999999995, avg cost: 7783.484, path: [2, 0, 1, 4, 3]\n",
            "Generation #96 best cost: 7783.4839999999995, avg cost: 8733.023000000001, path: [2, 0, 1, 4, 3]\n",
            "Generation #97 best cost: 7783.4839999999995, avg cost: 7783.484, path: [2, 0, 1, 4, 3]\n",
            "Generation #98 best cost: 7783.4839999999995, avg cost: 8733.023000000001, path: [2, 0, 1, 4, 3]\n",
            "Generation #99 best cost: 7783.4839999999995, avg cost: 7783.484, path: [2, 0, 1, 4, 3]\n",
            "Generation #100 best cost: 7783.4839999999995, avg cost: 7783.4839999999995, path: [2, 0, 1, 4, 3]\n"
          ]
        }
      ]
    },
    {
      "cell_type": "code",
      "source": [
        "best_solution"
      ],
      "metadata": {
        "colab": {
          "base_uri": "https://localhost:8080/"
        },
        "id": "jcLMQKOZZxap",
        "outputId": "ac2360c4-751f-4c0a-a904-b9a7720fc7ba"
      },
      "execution_count": 83,
      "outputs": [
        {
          "output_type": "execute_result",
          "data": {
            "text/plain": [
              "[2, 0, 1, 4, 3]"
            ]
          },
          "metadata": {},
          "execution_count": 83
        }
      ]
    },
    {
      "cell_type": "code",
      "execution_count": 84,
      "metadata": {
        "id": "CEmG0fYbVZys",
        "colab": {
          "base_uri": "https://localhost:8080/"
        },
        "outputId": "258ee090-94da-4edc-fb6e-3327e58f028c"
      },
      "outputs": [
        {
          "output_type": "stream",
          "name": "stdout",
          "text": [
            "Santiago\n",
            "Buenos Aires\n",
            "Brasilia\n",
            "Caracas\n",
            "Bogota\n"
          ]
        }
      ],
      "source": [
        "capitals = ['Buenos Aires', 'Brasilia', 'Santiago', 'Bogota', 'Caracas']\n",
        "\n",
        "for i in best_solution:\n",
        "  print(capitals[i])"
      ]
    },
    {
      "cell_type": "code",
      "source": [
        "# We restrict to South America.\n",
        "ax = world[world.continent == 'South America'].plot(\n",
        "    color='white', edgecolor='black')\n",
        "\n",
        "# We can now plot our ``GeoDataFrame``.\n",
        "gdf.plot(ax=ax, color='red')\n",
        "\n",
        "for x, y, label in zip(gdf.geometry.x, gdf.geometry.y, gdf.City):\n",
        "    ax.annotate(label, xy=(x, y), xytext=(3, 3), textcoords=\"offset points\")\n",
        "\n",
        "\n",
        "for i in range(len(best_solution)-1):\n",
        "  ior   = best_solution[i]\n",
        "  idest = best_solution[i+1]\n",
        "  y_values = [ df.iloc[ior].Latitude, df.iloc[idest].Latitude]\n",
        "  x_values = [ df.iloc[ior].Longitude, df.iloc[idest].Longitude]\n",
        "\n",
        "  plt.plot(x_values, y_values, linewidth = 1, linestyle = \"-\", color = \"green\")\n",
        "\n",
        "  plt.arrow(x_values[0], y_values[0], 0.01, 0.01, shape='full', lw=10,\n",
        "   length_includes_head=True, head_width=.02, color='b')\n",
        "\n",
        "plt.show()\n",
        "\n",
        "for i in best_solution:\n",
        "  print(capitals[i])"
      ],
      "metadata": {
        "colab": {
          "base_uri": "https://localhost:8080/",
          "height": 512
        },
        "id": "lLUPflqRiLBJ",
        "outputId": "718e493c-6e9d-4864-ed9e-43f214fa1b01"
      },
      "execution_count": 85,
      "outputs": [
        {
          "output_type": "display_data",
          "data": {
            "text/plain": [
              "<Figure size 640x480 with 1 Axes>"
            ],
            "image/png": "[encoded data removed]"
          },
          "metadata": {}
        },
        {
          "output_type": "stream",
          "name": "stdout",
          "text": [
            "Santiago\n",
            "Buenos Aires\n",
            "Brasilia\n",
            "Caracas\n",
            "Bogota\n"
          ]
        }
      ]
    }
  ],
  "metadata": {
    "kernelspec": {
      "display_name": "Python 3",
      "language": "python",
      "name": "python3"
    },
    "language_info": {
      "codemirror_mode": {
        "name": "ipython",
        "version": 3
      },
      "file_extension": ".py",
      "mimetype": "text/x-python",
      "name": "python",
      "nbconvert_exporter": "python",
      "pygments_lexer": "ipython3",
      "version": "3.7.4"
    },
    "colab": {
      "provenance": []
    },
    "gpuClass": "standard"
  },
  "nbformat": 4,
  "nbformat_minor": 0
}