{
 "cells": [
  {
   "cell_type": "markdown",
   "metadata": {},
   "source": [
    "Reversing Game of Life \n",
    "The rules for the Game of Life are: \n",
    "- Any live cell with fewer than two live neighbors dies, as if by underpopulation.\n",
    "- Any live cell with two or three live neighbors lives on to the next generation.\n",
    "- Any live cell with more than three live neighbors dies, as if by overpopulation.\n",
    "- Any dead cell with exactly three live neighbors becomes a live cell, as if by reproduction."
   ]
  },
  {
   "cell_type": "code",
   "execution_count": null,
   "metadata": {},
   "outputs": [],
   "source": [
    "import pandas as pd \n",
    "import numpy as np\n",
    "import matplotlib.pyplot as plt\n",
    "import os\n",
    "import cv2\n",
    "\n",
    "# Initialize the grid with random alive (1) and dead (0) cells\n",
    "def initialize_grid(size):\n",
    "    return np.random.choice([0, 1], size*size, p=[0.8, 0.2]).reshape(size, size)\n",
    "\n",
    "# Define the function to update the grid based on the Game of Life rules\n",
    "def update_grid(grid):\n",
    "    new_grid = grid.copy()\n",
    "    for i in range(grid.shape[0]):\n",
    "        for j in range(grid.shape[1]):\n",
    "            # Calculate the number of live neighbors\n",
    "            live_neighbors = np.sum(grid[max(0, i-1):min(i+2, grid.shape[0]), max(0, j-1):min(j+2, grid.shape[1])]) - grid[i, j]\n",
    "            \n",
    "            # Apply the Game of Life rules\n",
    "            if grid[i, j] == 1:\n",
    "                if live_neighbors < 2 or live_neighbors > 3:\n",
    "                    new_grid[i, j] = 0\n",
    "            else:\n",
    "                if live_neighbors == 3:\n",
    "                    new_grid[i, j] = 1\n",
    "    return new_grid\n",
    "\n",
    "# Initialize the grid\n",
    "size = 20  # Grid size\n",
    "grid = initialize_grid(size)\n",
    "\n",
    "# Create output directory for frames\n",
    "output_dir = 'game_of_life_frames/10steps'\n",
    "if not os.path.exists(output_dir):\n",
    "    os.makedirs(output_dir)\n",
    "\n",
    "# Plot and save each state\n",
    "def save_grid(grid, step):\n",
    "    plt.imshow(grid, interpolation='nearest', cmap='binary')\n",
    "    plt.title(f\"Step {step}\")\n",
    "    plt.savefig(f\"{output_dir}/frame_{step:03d}.png\")\n",
    "    plt.close()\n",
    "\n",
    "# Number of steps to simulate\n",
    "steps = 10\n",
    "\n",
    "# Save the initial state\n",
    "save_grid(grid, 0)\n",
    "\n",
    "# Simulate and save each step\n",
    "for step in range(1, steps + 1):\n",
    "    grid = update_grid(grid)\n",
    "    save_grid(grid, step)\n",
    "\n",
    "print(f\"Saved {steps + 1} frames in {output_dir}\")"
   ]
  },
  {
   "cell_type": "code",
   "execution_count": null,
   "metadata": {},
   "outputs": [],
   "source": [
    "def create_video_from_frames(output_dir, video_name, frame_rate):\n",
    "    # Get list of frame files sorted by name\n",
    "    frame_files = sorted([f for f in os.listdir(output_dir) if f.endswith('.png')])\n",
    "    \n",
    "    # Read the first frame to get dimensions\n",
    "    first_frame = cv2.imread(os.path.join(output_dir, frame_files[0]))\n",
    "    height, width, layers = first_frame.shape\n",
    "\n",
    "    # Define the codec and create VideoWriter object\n",
    "    video_path = os.path.join(output_dir, video_name)\n",
    "    fourcc = cv2.VideoWriter_fourcc(*'mp4v')  # You can use other codecs like 'XVID'\n",
    "    video = cv2.VideoWriter(video_path, fourcc, frame_rate, (width, height))\n",
    "\n",
    "    for frame_file in frame_files:\n",
    "        frame = cv2.imread(os.path.join(output_dir, frame_file))\n",
    "        video.write(frame)\n",
    "\n",
    "    video.release()\n",
    "    print(f\"Video saved at {video_path}\")\n",
    "\n",
    "# Example usage\n",
    "output_dir = 'game_of_life_frames/10steps'\n",
    "video_name = 'game_of_life.mp4'\n",
    "frame_rate = 10  # frames per second\n",
    "\n",
    "create_video_from_frames(output_dir, video_name, frame_rate)"
   ]
  },
  {
   "cell_type": "code",
   "execution_count": null,
   "metadata": {},
   "outputs": [],
   "source": [
    "train_csv = pd.read_csv('/Users/victorgutierrezgarcia/Desktop/MUTSC/2º Cuatri /BILN/biln_project/bioinspired_learning/data/train.csv')\n",
    "train_csv.head()"
   ]
  }
 ],
 "metadata": {
  "kernelspec": {
   "display_name": "Python 3",
   "language": "python",
   "name": "python3"
  },
  "language_info": {
   "codemirror_mode": {
    "name": "ipython",
    "version": 3
   },
   "file_extension": ".py",
   "mimetype": "text/x-python",
   "name": "python",
   "nbconvert_exporter": "python",
   "pygments_lexer": "ipython3",
   "version": "3.11.5"
  }
 },
 "nbformat": 4,
 "nbformat_minor": 2
}
